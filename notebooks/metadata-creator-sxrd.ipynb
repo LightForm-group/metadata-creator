{
 "cells": [
  {
   "cell_type": "code",
   "execution_count": 34,
   "id": "3540bf1f",
   "metadata": {},
   "outputs": [],
   "source": [
    "import yaml\n",
    "import ipywidgets\n",
    "import tqdm\n",
    "\n",
    "%load_ext autoreload\n",
    "%autoreload 2"
   ]
  },
  {
   "cell_type": "markdown",
   "id": "987e400c",
   "metadata": {},
   "source": [
    "### Material Parameters"
   ]
  },
  {
   "cell_type": "code",
   "execution_count": 35,
   "id": "3bfe70e0",
   "metadata": {},
   "outputs": [],
   "source": [
    "material_description = \"Zircaloy-4 with 7 wt.% Nb addition\"\n",
    "alloy_elements = [\"Zr\", \"Nb\", \"Sn\", \"Fe\", \"Cr\"]\n",
    "weight_composition = [91.80, 6.63, 1.23, 0.22, 0.12]"
   ]
  },
  {
   "cell_type": "code",
   "execution_count": 36,
   "id": "d96700ea",
   "metadata": {},
   "outputs": [],
   "source": [
    "material_dict = {\"Material\": \n",
    "                     {\"Material Description\" : material_description,\n",
    "                      \"Alloy Elements\" : alloy_elements,\n",
    "                      \"Weight Composition, wt.%\" : weight_composition\n",
    "                     }\n",
    "                }"
   ]
  },
  {
   "cell_type": "markdown",
   "id": "43fae3af",
   "metadata": {},
   "source": [
    "### Processing Parameters"
   ]
  },
  {
   "cell_type": "code",
   "execution_count": 37,
   "id": "4b7cfa86",
   "metadata": {},
   "outputs": [],
   "source": [
    "processing_route = [\"casting\", \"hot-rolling\", \"annealing\"]\n",
    "processing_description = \"Cast by induction skull melting. Rolled at 850C in beta-phase field (beta-processed). Annealed at 750C for 5 days with furnace cooling (beta-processed and annealed). Rolled at 725C to 50% reduction and 75% reduction, with 4 passes of 16% reduction at each stage. Heating for 1 hour at the start, then 2 mins between passes. Air cooled after rolling. Annealed samples heat-treated (HT) at 750C for 2 hours with furnace cooling.\"\n",
    "\n",
    "equipment = \"Rolling Mill\"\n",
    "equipment_description = \"The University of Manchester\"\n",
    "roll_diameter_mm = 254\n",
    "roll_speed_rpm = 13.37\n",
    "roll_speed_rads = 1.4\n",
    "linear_speed_mms = 177.8\n",
    "linear_speed_ftmin = 35"
   ]
  },
  {
   "cell_type": "code",
   "execution_count": 39,
   "id": "05428e4b",
   "metadata": {},
   "outputs": [],
   "source": [
    "processing_dict = {\"Processing\":\n",
    "                       {\"Processing Route\" : processing_route,\n",
    "                        \"Processing Description\" : processing_description,\n",
    "                       equipment :\n",
    "                           {\"Rolling Mill Description\" : equipment_description,\n",
    "                            \"Roll Diameter, mm\" : roll_diameter_mm,\n",
    "                            \"Roll Speed, rpm\" : roll_speed_rpm,\n",
    "                            \"Roll Speed, rad/s\" : roll_speed_rads,\n",
    "                            \"Linear Speed, mm/s\" : linear_speed_mms,\n",
    "                            \"Linear Speed, ft/min\" : linear_speed_ftmin\n",
    "                           }\n",
    "                        }\n",
    "                   }"
   ]
  },
  {
   "cell_type": "markdown",
   "id": "c7001681",
   "metadata": {},
   "source": [
    "### EBSD Analysis"
   ]
  },
  {
   "cell_type": "code",
   "execution_count": 40,
   "id": "ad829b97",
   "metadata": {},
   "outputs": [],
   "source": [
    "sample_orientation_outOfPlane = \"TD (Transverse)\"\n",
    "sample_orientation_up = \"ND (Normal)\"\n",
    "sample_orientation_side = \"RD (Rolling)\""
   ]
  },
  {
   "cell_type": "code",
   "execution_count": 41,
   "id": "501af63f",
   "metadata": {},
   "outputs": [],
   "source": [
    "sample_orientation_dict = {\"Sample Orientation\" :\n",
    "                               {\"Orientation Out Of Plane (Z1)\" : sample_orientation_outOfPlane,\n",
    "                                \"Orientation Up, North (Y1)\" : sample_orientation_up,\n",
    "                                \"Orientation Side, East (X1)\" : sample_orientation_side\n",
    "                               }\n",
    "                          }"
   ]
  },
  {
   "cell_type": "code",
   "execution_count": 55,
   "id": "3f978798",
   "metadata": {},
   "outputs": [],
   "source": [
    "working_distance = 27\n",
    "magnification = [200, 400, 750, 1200, 2000]\n",
    "tilt = 70 \n",
    "    \n",
    "applied_rotation = True\n",
    "rotation_euler1 = 0\n",
    "rotation_euler2 = -90\n",
    "rotation_euler3 = 0\n",
    "\n",
    "stage_scan = True\n",
    "overlap_of_maps = 10"
   ]
  },
  {
   "cell_type": "code",
   "execution_count": 56,
   "id": "e94102ea",
   "metadata": {},
   "outputs": [],
   "source": [
    "ebsd_setup_dict = {\"Sample Setup\" :\n",
    "                       {\"Working Distance, mm\" : working_distance,\n",
    "                        \"Magnification, X\" : magnification,\n",
    "                        \"Tilt, deg\" : tilt\n",
    "                       }\n",
    "                  }\n",
    "\n",
    "if applied_rotation:\n",
    "    ebsd_setup_dict[\"Data Rotation\"] = {\"Data Rotation Applied\" : applied_rotation,\n",
    "                                        \"Data Rotation (Euler 1)\" : rotation_euler1,\n",
    "                                        \"Data Rotation (Euler 2)\" : rotation_euler2,\n",
    "                                        \"Data Rotation (Euler 3)\" : rotation_euler3\n",
    "                                       }\n",
    "                   \n",
    "if not applied_rotation:\n",
    "    ebsd_setup_dict[\"Data Rotation\"] = {\"Data Rotation Applied\" : applied_rotation\n",
    "                                       }               \n",
    "    \n",
    "if stage_scan:\n",
    "    ebsd_setup_dict[\"Stage Scan\"] = {\"Stage Scan\" : stage_scan,\n",
    "                                     \"Overlap of Stitched Maps, %\" : overlap_of_maps\n",
    "                                    }\n",
    "                   \n",
    "if not stage_scan:\n",
    "    ebsd_setup_dict[\"Stage Scan\"] = {\"Stage Scan Applied\" : stage_scan}"
   ]
  },
  {
   "cell_type": "code",
   "execution_count": 57,
   "id": "bb11514f",
   "metadata": {},
   "outputs": [],
   "source": [
    "phase_names = [\"Zirconium hexagonal close-packed (hcp)\", \"Zirconium body-centred-cubic (bcc)\"]\n",
    "phase_names_aztec = [\"Zirc-alloy4\", \"Titanium cubic\"]\n",
    "crystal_systems = [\"hexagonal close-packed (hcp)\", \"body-centred cubic (bcc)\"]\n",
    "space_group_numbers = [194, 229]\n",
    "space_groups_hall = [\"-P 6c 2c\", \"-I 4 2 3\"]\n",
    "space_groups_HM = [\"P63/mmc\", \"Im-3m\"]\n",
    "laue_groups = [\"6/mmm\", \"m-3m\"]\n",
    "cell_angles_alpha = [90, 90]\n",
    "cell_angles_beta = [90, 90]\n",
    "cell_angles_gamma = [120, 90]\n",
    "cell_lengths_a = [3.231, 3.192]\n",
    "cell_lengths_b = [3.231, 3.192]\n",
    "cell_lengths_c = [5.148, 3.192]"
   ]
  },
  {
   "cell_type": "code",
   "execution_count": 58,
   "id": "0c6561f2",
   "metadata": {},
   "outputs": [],
   "source": [
    "phase_dict = {}\n",
    "\n",
    "for i in range(len(phase_names)):\n",
    "    \n",
    "    phase_dict[f\"Phase {i+1}\"] = {\"Phase Name\" : phase_names[i],\n",
    "                                \"Phase Name in Aztec\" : phase_names_aztec[i],\n",
    "                                \"Crystal System\" : crystal_systems[i],\n",
    "                                \"Space Group Number\" : space_group_numbers[i],\n",
    "                                \"Crystal Space Group Hall\" : space_groups_hall[i],\n",
    "                                \"Crystal Space Group H-M\" : space_groups_HM[i],\n",
    "                                \"Crystal Laue Group\" : laue_groups[i],\n",
    "                                \"Cell Angle Alpha, deg\" : cell_angles_alpha[i],\n",
    "                                \"Cell Angle Beta, deg\" : cell_angles_beta[i],\n",
    "                                \"Cell Angle Gamma, deg\" : cell_angles_gamma[i],\n",
    "                                \"Cell Length a, Angstrom\" : cell_lengths_a[i],\n",
    "                                \"Cell Length b, Angstrom\" : cell_lengths_b[i],\n",
    "                                \"Cell Length c, Angstrom\" : cell_lengths_c[i]\n",
    "                                }"
   ]
  },
  {
   "cell_type": "code",
   "execution_count": 68,
   "id": "950f78a8",
   "metadata": {},
   "outputs": [],
   "source": [
    "# CamScan\n",
    "microscope = \"CamScan MX2000\"\n",
    "beam_energy = 20\n",
    "beam_intensity = 20\n",
    "spot_size = 4.5\n",
    "aperture = \"N/A\"\n",
    "scan_mode = \"N/A\" # Resolution, Depth, Field, Wide Field, Channeling\n",
    "\n",
    "camera = \"Oxford Nordlys\"\n",
    "camera_distance = \"N/A\"\n",
    "binning_mode = \"4x4\"\n",
    "gain = \"Low\"\n",
    "camera_mode = \"N/A\" # Resolution, Sensitivity, Speed 1, Speed 2\n",
    "camera_speed = \"N/A\"\n",
    "   \n",
    "# TESCAN\n",
    "# microscope = \"TESCAN\"\n",
    "# beam_energy = 20\n",
    "# beam_intensity = 20\n",
    "# spot_size = 4.5\n",
    "# aperture = \"N/A\"\n",
    "# scan_mode = \"Field\" # Resolution, Depth, Field, Wide Field, Channeling\n",
    "\n",
    "# camera = \"Oxford Symmetry\"\n",
    "# camera_distance = 178\n",
    "# binning_mode = \"N/A\"\n",
    "# gain = \"N/A\"\n",
    "# camera_mode = \"Speed 1\" # Resolution, Sensitivity, Speed 1, Speed 2\n",
    "# camera_speed = \"N/A\"\n",
    "\n",
    "# Sirion\n",
    "# microscope = \"FEI Sirion\"\n",
    "# beam_energy = 20\n",
    "# beam_intensity = 20\n",
    "# spot_size = 4\n",
    "# aperture = \"N/A\"\n",
    "# scan_mode = \"N/A\" # Resolution, Depth, Field, Wide Field, Channeling\n",
    "\n",
    "# camera = \"Oxford NordlysNano\"\n",
    "# camera_distance = 164.8\n",
    "# binning_mode = \"4x4\"\n",
    "# gain = \"Low\"\n",
    "# camera_mode = \"Speed 1\" # Resolution, Sensitivity, Speed 1, Speed 2\n",
    "# camera_speed = \"N/A\""
   ]
  },
  {
   "cell_type": "code",
   "execution_count": 70,
   "id": "ec0072cd",
   "metadata": {},
   "outputs": [],
   "source": [
    "microscope_dict =  {\"Microscope\": \n",
    "                        {\"Scanning Electron Microscope (SEM) Name\": microscope,\n",
    "                         \"Beam Energy, kV\" : beam_energy,\n",
    "                         \"Beam Intensity, nA\" : beam_intensity,\n",
    "                         \"Spot Size\" : spot_size,\n",
    "                         \"Aperture\" : aperture,\n",
    "                         \"Scan Mode\" : scan_mode\n",
    "                        },\n",
    "                    \"Camera\":\n",
    "                        {\"EBSD Camera Name\" : camera,\n",
    "                         \"Camera Insertion Distance, mm\" : camera_distance,\n",
    "                         \"Binning Mode\" : binning_mode,\n",
    "                         \"Gain\" : gain,\n",
    "                         \"Camera Mode\" : camera_mode,\n",
    "                         \"Camera Speed\" : camera_speed\n",
    "                        }\n",
    "                   }"
   ]
  },
  {
   "cell_type": "code",
   "execution_count": 71,
   "id": "cf5a1884",
   "metadata": {},
   "outputs": [],
   "source": [
    "metadata_filename = \"ebsd_metadata\"\n",
    "\n",
    "parameters = {}\n",
    "\n",
    "parameters.update(material_dict)\n",
    "parameters.update(processing_dict)\n",
    "\n",
    "parameters[\"EBSD\"] = sample_orientation_dict\n",
    "parameters[\"EBSD\"].update(ebsd_setup_dict)\n",
    "parameters[\"EBSD\"].update(phase_dict)\n",
    "parameters[\"EBSD\"].update(microscope_dict)\n",
    "\n",
    "data_folder = f\"../metadata/{metadata_filename}.yaml\"\n",
    "with open(data_folder, \"w\") as output_file:\n",
    "    yaml.dump(parameters, output_file)"
   ]
  }
 ],
 "metadata": {
  "kernelspec": {
   "display_name": "Python 3",
   "language": "python",
   "name": "python3"
  },
  "language_info": {
   "codemirror_mode": {
    "name": "ipython",
    "version": 3
   },
   "file_extension": ".py",
   "mimetype": "text/x-python",
   "name": "python",
   "nbconvert_exporter": "python",
   "pygments_lexer": "ipython3",
   "version": "3.6.8"
  }
 },
 "nbformat": 4,
 "nbformat_minor": 5
}
